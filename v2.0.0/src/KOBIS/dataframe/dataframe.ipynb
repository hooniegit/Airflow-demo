{
 "cells": [
  {
   "cell_type": "code",
   "execution_count": 2,
   "metadata": {},
   "outputs": [],
   "source": [
    "# module import\n",
    "import pandas as pd\n",
    "import json"
   ]
  },
  {
   "cell_type": "code",
   "execution_count": 4,
   "metadata": {},
   "outputs": [],
   "source": [
    "# 파일 불러오기\n",
    "page = 1\n",
    "file_path = f\"/Users/kimdohoon/Desktop/movie/2023/KOBIS_MOVIE_LIST_2023_{page}.json\"\n",
    "\n",
    "with open(file_path, \"r\") as file:\n",
    "    data = json.load(file)"
   ]
  },
  {
   "cell_type": "code",
   "execution_count": 6,
   "metadata": {},
   "outputs": [
    {
     "name": "stdout",
     "output_type": "stream",
     "text": [
      "{'movieListResult': {'totCnt': 973, 'source': '영화진흥위원회', 'movieList': [{'movieCd': '20232778', 'movieNm': '인시디어스: 빨간 문', 'movieNmEn': 'Insidious: The Red Door', 'prdtYear': '2023', 'openDt': '20230719', 'typeNm': '장편', 'prdtStatNm': '개봉', 'nationAlt': '미국', 'genreAlt': '공포(호러)', 'repNationNm': '미국', 'repGenreNm': '공포(호러)', 'directors': [{'peopleNm': '패트릭 윌슨'}], 'companys': []}, {'movieCd': '20233005', 'movieNm': '순진한 베이글녀들', 'movieNmEn': '', 'prdtYear': '2023', 'openDt': '20230811', 'typeNm': '장편', 'prdtStatNm': '개봉', 'nationAlt': '한국', 'genreAlt': '성인물(에로)', 'repNationNm': '한국', 'repGenreNm': '성인물(에로)', 'directors': [{'peopleNm': '서필벅'}], 'companys': [{'companyCd': '20217881', 'companyNm': '(주)샤이커뮤니케이션즈'}]}, {'movieCd': '20232615', 'movieNm': '마사지사 예라의 끝내주는 손기술:한 번에 두 발', 'movieNmEn': '', 'prdtYear': '2023', 'openDt': '20230811', 'typeNm': '장편', 'prdtStatNm': '개봉', 'nationAlt': '한국', 'genreAlt': '성인물(에로),드라마,멜로/로맨스', 'repNationNm': '한국', 'repGenreNm': '성인물(에로)', 'directors': [{'peopleNm': '윤준세'}], 'companys': [{'companyCd': '20114899', 'companyNm': '(주)영진크리에이티브'}]}, {'movieCd': '20226500', 'movieNm': '달짝지근해: 7510', 'movieNmEn': 'HONEYSWEET', 'prdtYear': '2022', 'openDt': '20230815', 'typeNm': '장편', 'prdtStatNm': '개봉예정', 'nationAlt': '한국', 'genreAlt': '코미디', 'repNationNm': '한국', 'repGenreNm': '코미디', 'directors': [{'peopleNm': '이한'}], 'companys': [{'companyCd': '20139999', 'companyNm': '(주)무비락'}]}, {'movieCd': '20224667', 'movieNm': '잠', 'movieNmEn': 'Sleep', 'prdtYear': '2022', 'openDt': '20230906', 'typeNm': '장편', 'prdtStatNm': '개봉예정', 'nationAlt': '한국', 'genreAlt': '미스터리', 'repNationNm': '한국', 'repGenreNm': '미스터리', 'directors': [{'peopleNm': '유재선'}], 'companys': [{'companyCd': '20156868', 'companyNm': '(주)루이스 픽쳐스'}]}, {'movieCd': '20233412', 'movieNm': '어파이어', 'movieNmEn': 'Afire', 'prdtYear': '2023', 'openDt': '20230913', 'typeNm': '장편', 'prdtStatNm': '개봉예정', 'nationAlt': '독일', 'genreAlt': '드라마,멜로/로맨스,코미디', 'repNationNm': '독일', 'repGenreNm': '드라마', 'directors': [{'peopleNm': '크리스티안 펫졸드'}], 'companys': []}, {'movieCd': '20224863', 'movieNm': '아포리아', 'movieNmEn': 'APORIA', 'prdtYear': '2022', 'openDt': '20230126', 'typeNm': '장편', 'prdtStatNm': '개봉', 'nationAlt': '한국', 'genreAlt': '드라마', 'repNationNm': '한국', 'repGenreNm': '드라마', 'directors': [{'peopleNm': '이주형'}], 'companys': [{'companyCd': '20205062', 'companyNm': '소나기픽처스'}]}, {'movieCd': '20232618', 'movieNm': '런닝맨: 리벤져스', 'movieNmEn': 'Running Man : Revengers', 'prdtYear': '2023', 'openDt': '20230810', 'typeNm': '장편', 'prdtStatNm': '개봉', 'nationAlt': '한국', 'genreAlt': '애니메이션', 'repNationNm': '한국', 'repGenreNm': '애니메이션', 'directors': [{'peopleNm': '엄영식'}], 'companys': [{'companyCd': '20141388', 'companyNm': '(주)로커스'}]}, {'movieCd': '20218541', 'movieNm': '밀수', 'movieNmEn': 'Smugglers', 'prdtYear': '2023', 'openDt': '20230726', 'typeNm': '장편', 'prdtStatNm': '개봉', 'nationAlt': '한국', 'genreAlt': '범죄', 'repNationNm': '한국', 'repGenreNm': '범죄', 'directors': [{'peopleNm': '류승완'}], 'companys': [{'companyCd': '20100374', 'companyNm': '(주)외유내강'}]}, {'movieCd': '20227891', 'movieNm': '지옥만세', 'movieNmEn': 'Hail to Hell', 'prdtYear': '2022', 'openDt': '20230816', 'typeNm': '장편', 'prdtStatNm': '개봉예정', 'nationAlt': '한국', 'genreAlt': '어드벤처', 'repNationNm': '한국', 'repGenreNm': '어드벤처', 'directors': [{'peopleNm': '임오정'}], 'companys': [{'companyCd': '20100572', 'companyNm': '한국영화아카데미'}]}, {'movieCd': '20233052', 'movieNm': '메가로돈 2', 'movieNmEn': 'Meg 2: The Trench', 'prdtYear': '2023', 'openDt': '20230815', 'typeNm': '장편', 'prdtStatNm': '개봉예정', 'nationAlt': '미국', 'genreAlt': '액션', 'repNationNm': '미국', 'repGenreNm': '액션', 'directors': [{'peopleNm': '벤 휘틀리'}], 'companys': []}, {'movieCd': '20232661', 'movieNm': '육덕져서 더 좋아', 'movieNmEn': '', 'prdtYear': '2023', 'openDt': '20230810', 'typeNm': '장편', 'prdtStatNm': '개봉', 'nationAlt': '한국', 'genreAlt': '성인물(에로)', 'repNationNm': '한국', 'repGenreNm': '성인물(에로)', 'directors': [{'peopleNm': '김오월'}], 'companys': [{'companyCd': '20217881', 'companyNm': '(주)샤이커뮤니케이션즈'}]}, {'movieCd': '20230561', 'movieNm': '연악: 나의 운명', 'movieNmEn': '', 'prdtYear': '2022', 'openDt': '20230810', 'typeNm': '장편', 'prdtStatNm': '개봉', 'nationAlt': '한국', 'genreAlt': '사극,드라마', 'repNationNm': '한국', 'repGenreNm': '사극', 'directors': [{'peopleNm': '박한열'}], 'companys': [{'companyCd': '20230341', 'companyNm': '주식회사 도화원엔터테인먼트'}]}, {'movieCd': '20233068', 'movieNm': '여상사의 노예가 되어줄게요', 'movieNmEn': 'NIJIGENSUKINAKANOJYO', 'prdtYear': '2022', 'openDt': '20230810', 'typeNm': '장편', 'prdtStatNm': '개봉', 'nationAlt': '일본', 'genreAlt': '멜로/로맨스,드라마', 'repNationNm': '일본', 'repGenreNm': '멜로/로맨스', 'directors': [], 'companys': []}, {'movieCd': '20232660', 'movieNm': '불륜 남편의 아내', 'movieNmEn': '', 'prdtYear': '2023', 'openDt': '20230810', 'typeNm': '장편', 'prdtStatNm': '개봉', 'nationAlt': '한국', 'genreAlt': '성인물(에로)', 'repNationNm': '한국', 'repGenreNm': '성인물(에로)', 'directors': [{'peopleNm': '김오월'}], 'companys': [{'companyCd': '20217881', 'companyNm': '(주)샤이커뮤니케이션즈'}]}, {'movieCd': '20232698', 'movieNm': '바다 탐험대 옥토넛 어보브 앤 비욘드 : 육지 넘어 하늘까지!', 'movieNmEn': 'Octonauts: Above and Beyond – Season 2', 'prdtYear': '2023', 'openDt': '20230810', 'typeNm': '장편', 'prdtStatNm': '개봉', 'nationAlt': '영국', 'genreAlt': '애니메이션,어드벤처,액션', 'repNationNm': '영국', 'repGenreNm': '애니메이션', 'directors': [], 'companys': []}, {'movieCd': '20233073', 'movieNm': '남편 몰래 수컷 냄새 맡으러 가요', 'movieNmEn': 'HANNOMOKUNYUGEKIJYOU-01', 'prdtYear': '2022', 'openDt': '20230810', 'typeNm': '장편', 'prdtStatNm': '개봉', 'nationAlt': '일본', 'genreAlt': '멜로/로맨스,드라마', 'repNationNm': '일본', 'repGenreNm': '멜로/로맨스', 'directors': [], 'companys': []}, {'movieCd': '20225825', 'movieNm': '다섯 번째 흉추', 'movieNmEn': 'The Fifth Thoracic Vertebra', 'prdtYear': '2022', 'openDt': '20230802', 'typeNm': '장편', 'prdtStatNm': '개봉', 'nationAlt': '한국', 'genreAlt': '드라마,스릴러', 'repNationNm': '한국', 'repGenreNm': '드라마', 'directors': [{'peopleNm': '박세영'}], 'companys': []}, {'movieCd': '20204541', 'movieNm': '퀴어 마이 프렌즈', 'movieNmEn': 'Queer My Friends', 'prdtYear': '2022', 'openDt': '20230809', 'typeNm': '장편', 'prdtStatNm': '개봉', 'nationAlt': '한국', 'genreAlt': '다큐멘터리,드라마,가족', 'repNationNm': '한국', 'repGenreNm': '다큐멘터리', 'directors': [{'peopleNm': '서아현'}], 'companys': [{'companyCd': '20190841', 'companyNm': '시소픽쳐스'}]}, {'movieCd': '20204264', 'movieNm': '콘크리트 유토피아', 'movieNmEn': 'Concrete Utopia', 'prdtYear': '2021', 'openDt': '20230809', 'typeNm': '장편', 'prdtStatNm': '개봉', 'nationAlt': '한국', 'genreAlt': '드라마', 'repNationNm': '한국', 'repGenreNm': '드라마', 'directors': [{'peopleNm': '엄태화'}], 'companys': [{'companyCd': '20203941', 'companyNm': '클라이맥스 스튜디오(주)'}, {'companyCd': '20110911', 'companyNm': '(주)비에이치 엔터테인먼트'}]}, {'movieCd': '20232501', 'movieNm': '이름 없는 춤', 'movieNmEn': 'The Unnameable Dance', 'prdtYear': '2021', 'openDt': '20230809', 'typeNm': '장편', 'prdtStatNm': '개봉', 'nationAlt': '일본', 'genreAlt': '다큐멘터리', 'repNationNm': '일본', 'repGenreNm': '다큐멘터리', 'directors': [{'peopleNm': '이누도 잇신'}], 'companys': []}, {'movieCd': '20228892', 'movieNm': '마에스트로', 'movieNmEn': 'Maestro', 'prdtYear': '2022', 'openDt': '20230809', 'typeNm': '장편', 'prdtStatNm': '개봉', 'nationAlt': '프랑스', 'genreAlt': '드라마', 'repNationNm': '프랑스', 'repGenreNm': '드라마', 'directors': [{'peopleNm': '브뤼노 시슈'}], 'companys': []}, {'movieCd': '20232765', 'movieNm': '여덟 개의 산', 'movieNmEn': 'The Eight Mountains', 'prdtYear': '2022', 'openDt': '20230920', 'typeNm': '장편', 'prdtStatNm': '개봉예정', 'nationAlt': '이탈리아', 'genreAlt': '드라마', 'repNationNm': '이탈리아', 'repGenreNm': '드라마', 'directors': [{'peopleNm': '펠릭스 반 그뢰닝엔'}], 'companys': []}, {'movieCd': '20192995', 'movieNm': '보호자', 'movieNmEn': 'A Man of Reason', 'prdtYear': '2021', 'openDt': '20230815', 'typeNm': '장편', 'prdtStatNm': '개봉예정', 'nationAlt': '한국', 'genreAlt': '액션,드라마', 'repNationNm': '한국', 'repGenreNm': '액션', 'directors': [{'peopleNm': '정우성'}], 'companys': [{'companyCd': '20169408', 'companyNm': '(주)영화사테이크'}]}, {'movieCd': '20210684', 'movieNm': '두다다쿵: 후후섬의 비밀', 'movieNmEn': 'Duda&Dada The Secret of HooHoo Island', 'prdtYear': '2022', 'openDt': '20230215', 'typeNm': '장편', 'prdtStatNm': '개봉', 'nationAlt': '한국', 'genreAlt': '애니메이션', 'repNationNm': '한국', 'repGenreNm': '애니메이션', 'directors': [{'peopleNm': '최병선'}, {'peopleNm': '김지윤'}], 'companys': [{'companyCd': '20217823', 'companyNm': '아이스크림 스튜디오(주)'}]}, {'movieCd': '20227555', 'movieNm': '엄마의 땅: 그리샤와 숲의 주인', 'movieNmEn': 'Mother Land', 'prdtYear': '2022', 'openDt': '20230125', 'typeNm': '장편', 'prdtStatNm': '개봉', 'nationAlt': '한국', 'genreAlt': '애니메이션', 'repNationNm': '한국', 'repGenreNm': '애니메이션', 'directors': [{'peopleNm': '박재범'}], 'companys': [{'companyCd': '20100572', 'companyNm': '한국영화아카데미'}]}, {'movieCd': '20233000', 'movieNm': '킬러의 레스토랑', 'movieNmEn': 'High Heat', 'prdtYear': '2022', 'openDt': '20230817', 'typeNm': '장편', 'prdtStatNm': '개봉예정', 'nationAlt': '미국', 'genreAlt': '액션', 'repNationNm': '미국', 'repGenreNm': '액션', 'directors': [{'peopleNm': '잭 골든'}], 'companys': []}, {'movieCd': '20233049', 'movieNm': '잘 뚫는 배관공:다른 곳도 뚫어줘요', 'movieNmEn': 'NETORARETA UTINOKANAI-04', 'prdtYear': '2022', 'openDt': '20230807', 'typeNm': '장편', 'prdtStatNm': '개봉', 'nationAlt': '일본', 'genreAlt': '멜로/로맨스,드라마', 'repNationNm': '일본', 'repGenreNm': '멜로/로맨스', 'directors': [{'peopleNm': '우치야마 카즈오'}], 'companys': []}, {'movieCd': '20233066', 'movieNm': '의붓남매:한지붕 한침대', 'movieNmEn': 'BOKUNOMAEDEAZATO', 'prdtYear': '2022', 'openDt': '20230807', 'typeNm': '장편', 'prdtStatNm': '개봉', 'nationAlt': '일본', 'genreAlt': '멜로/로맨스,드라마', 'repNationNm': '일본', 'repGenreNm': '멜로/로맨스', 'directors': [{'peopleNm': '코엔지 고로'}], 'companys': []}, {'movieCd': '20233048', 'movieNm': '옆집여자와 합체한 썰', 'movieNmEn': 'KYOUKINASISEIKATU', 'prdtYear': '2022', 'openDt': '20230807', 'typeNm': '장편', 'prdtStatNm': '개봉', 'nationAlt': '일본', 'genreAlt': '멜로/로맨스,드라마', 'repNationNm': '일본', 'repGenreNm': '멜로/로맨스', 'directors': [{'peopleNm': '디렉터 O'}], 'companys': []}, {'movieCd': '20233067', 'movieNm': '새엄마:목욕 시켜줄게요', 'movieNmEn': 'KATEIMONOGATARI-04', 'prdtYear': '2022', 'openDt': '20230807', 'typeNm': '장편', 'prdtStatNm': '개봉', 'nationAlt': '일본', 'genreAlt': '멜로/로맨스,드라마', 'repNationNm': '일본', 'repGenreNm': '멜로/로맨스', 'directors': [{'peopleNm': '키무라 히로유키'}], 'companys': []}, {'movieCd': '20239900', 'movieNm': '어쩌면 우린 헤어졌는지 모른다', 'movieNmEn': 'Someone You Loved', 'prdtYear': '2021', 'openDt': '20230208', 'typeNm': '장편', 'prdtStatNm': '개봉', 'nationAlt': '한국', 'genreAlt': '드라마', 'repNationNm': '한국', 'repGenreNm': '드라마', 'directors': [{'peopleNm': '형슬우'}], 'companys': [{'companyCd': '20154448', 'companyNm': '(주)26컴퍼니'}]}, {'movieCd': '20231844', 'movieNm': '낭만여행', 'movieNmEn': 'Romance trip', 'prdtYear': '2023', 'openDt': '20230806', 'typeNm': '장편', 'prdtStatNm': '개봉', 'nationAlt': '한국', 'genreAlt': '코미디,드라마', 'repNationNm': '한국', 'repGenreNm': '코미디', 'directors': [{'peopleNm': '박동기'}], 'companys': [{'companyCd': '20230446', 'companyNm': '낭만필름'}]}, {'movieCd': '20233063', 'movieNm': '잠든 여선배 다리 사이 쫄리는 맛', 'movieNmEn': 'ONNAJYOSITOBUKASUTORI-02', 'prdtYear': '2022', 'openDt': '20230805', 'typeNm': '장편', 'prdtStatNm': '개봉', 'nationAlt': '일본', 'genreAlt': '멜로/로맨스,드라마', 'repNationNm': '일본', 'repGenreNm': '멜로/로맨스', 'directors': [{'peopleNm': '하스시이'}], 'companys': []}, {'movieCd': '20233065', 'movieNm': '임신하고픈 데카걸 아리스 잔뜩 모아 한번에 보내줘', 'movieNmEn': 'TANOSIMU SINKONSEIKATU-02', 'prdtYear': '2022', 'openDt': '20230805', 'typeNm': '장편', 'prdtStatNm': '개봉', 'nationAlt': '일본', 'genreAlt': '멜로/로맨스,드라마', 'repNationNm': '일본', 'repGenreNm': '멜로/로맨스', 'directors': [{'peopleNm': '디렉터 O'}], 'companys': []}, {'movieCd': '20233047', 'movieNm': '요분질 여사원:오늘 잠 다 잤네', 'movieNmEn': 'NOMIKAITOSYUDEN-01', 'prdtYear': '2022', 'openDt': '20230805', 'typeNm': '장편', 'prdtStatNm': '개봉', 'nationAlt': '일본', 'genreAlt': '멜로/로맨스,드라마', 'repNationNm': '일본', 'repGenreNm': '멜로/로맨스', 'directors': [{'peopleNm': '토도'}], 'companys': []}, {'movieCd': '20233064', 'movieNm': '싱싱한 새아들 조금 맛 봐줄게', 'movieNmEn': 'GIBOGAOXTUTONIKAKURETE', 'prdtYear': '2022', 'openDt': '20230805', 'typeNm': '장편', 'prdtStatNm': '개봉', 'nationAlt': '일본', 'genreAlt': '멜로/로맨스,드라마', 'repNationNm': '일본', 'repGenreNm': '멜로/로맨스', 'directors': [{'peopleNm': '요시다 올리베트'}], 'companys': []}, {'movieCd': '20233046', 'movieNm': '자지 말라는 여후배:자꾸만 조여와', 'movieNmEn': 'NOMIKAITOSYUDEN-02', 'prdtYear': '2022', 'openDt': '20230804', 'typeNm': '장편', 'prdtStatNm': '개봉', 'nationAlt': '일본', 'genreAlt': '멜로/로맨스,드라마', 'repNationNm': '일본', 'repGenreNm': '멜로/로맨스', 'directors': [{'peopleNm': '토도'}], 'companys': []}, {'movieCd': '20233045', 'movieNm': '이상형이 아빠와 결혼했다', 'movieNmEn': 'OXTUPAIGAKININAXTUTE', 'prdtYear': '2022', 'openDt': '20230804', 'typeNm': '장편', 'prdtStatNm': '개봉', 'nationAlt': '일본', 'genreAlt': '멜로/로맨스,드라마', 'repNationNm': '일본', 'repGenreNm': '멜로/로맨스', 'directors': [{'peopleNm': '사쿠라비토'}], 'companys': []}, {'movieCd': '20233061', 'movieNm': '단단한 새아들:너하고 밤꽃냄새 맡고싶어', 'movieNmEn': 'HAHAMONOGATARARI-10', 'prdtYear': '2022', 'openDt': '20230804', 'typeNm': '장편', 'prdtStatNm': '개봉', 'nationAlt': '일본', 'genreAlt': '멜로/로맨스,드라마', 'repNationNm': '일본', 'repGenreNm': '멜로/로맨스', 'directors': [{'peopleNm': '츠지 코지'}], 'companys': []}, {'movieCd': '20233062', 'movieNm': '나는 시아버지의 아내가 되기로 결심했다', 'movieNmEn': 'UMARETUKI', 'prdtYear': '2022', 'openDt': '20230804', 'typeNm': '장편', 'prdtStatNm': '개봉', 'nationAlt': '일본', 'genreAlt': '멜로/로맨스,드라마', 'repNationNm': '일본', 'repGenreNm': '멜로/로맨스', 'directors': [{'peopleNm': '나가에'}], 'companys': []}, {'movieCd': '20232903', 'movieNm': '강사녀:강간범을 사냥하는 여자', 'movieNmEn': '', 'prdtYear': '2023', 'openDt': '20230804', 'typeNm': '장편', 'prdtStatNm': '개봉', 'nationAlt': '한국', 'genreAlt': '멜로/로맨스,드라마', 'repNationNm': '한국', 'repGenreNm': '멜로/로맨스', 'directors': [{'peopleNm': '전일만'}], 'companys': []}, {'movieCd': '20226431', 'movieNm': '오펜하이머', 'movieNmEn': 'Oppenheimer', 'prdtYear': '2023', 'openDt': '20230815', 'typeNm': '장편', 'prdtStatNm': '개봉예정', 'nationAlt': '미국', 'genreAlt': '스릴러,드라마', 'repNationNm': '미국', 'repGenreNm': '스릴러', 'directors': [{'peopleNm': '크리스토퍼 놀란'}], 'companys': []}, {'movieCd': '20193879', 'movieNm': '비공식작전', 'movieNmEn': 'Ransomed', 'prdtYear': '2022', 'openDt': '20230802', 'typeNm': '장편', 'prdtStatNm': '개봉', 'nationAlt': '한국', 'genreAlt': '드라마', 'repNationNm': '한국', 'repGenreNm': '드라마', 'directors': [{'peopleNm': '김성훈'}], 'companys': [{'companyCd': '20141672', 'companyNm': '(주)와인드업필름'}, {'companyCd': '20142550', 'companyNm': '와이낫필름'}]}, {'movieCd': '20232697', 'movieNm': '젊은 변태녀의 성욕', 'movieNmEn': '', 'prdtYear': '2023', 'openDt': '20230803', 'typeNm': '장편', 'prdtStatNm': '개봉', 'nationAlt': '한국', 'genreAlt': '성인물(에로)', 'repNationNm': '한국', 'repGenreNm': '성인물(에로)', 'directors': [{'peopleNm': '이선애'}], 'companys': [{'companyCd': '20217881', 'companyNm': '(주)샤이커뮤니케이션즈'}]}, {'movieCd': '20232141', 'movieNm': '신입사원: 더 무비', 'movieNmEn': 'The New Employee: The Movie', 'prdtYear': '2023', 'openDt': '20230803', 'typeNm': '장편', 'prdtStatNm': '개봉', 'nationAlt': '한국', 'genreAlt': '기타', 'repNationNm': '한국', 'repGenreNm': '기타', 'directors': [{'peopleNm': '김조광수'}], 'companys': [{'companyCd': '20100187', 'companyNm': '청년필름(주)'}]}, {'movieCd': '20233043', 'movieNm': '새엄마의 섹스특강', 'movieNmEn': '', 'prdtYear': '2022', 'openDt': '20230803', 'typeNm': '장편', 'prdtStatNm': '개봉', 'nationAlt': '일본', 'genreAlt': '멜로/로맨스,드라마', 'repNationNm': '일본', 'repGenreNm': '멜로/로맨스', 'directors': [{'peopleNm': '세이시 로쿠탄조노'}], 'companys': []}, {'movieCd': '20233059', 'movieNm': '버릇없는 의붓여동생 길들이기', 'movieNmEn': 'KANOJYOGANORIKONDE-04', 'prdtYear': '2022', 'openDt': '20230803', 'typeNm': '장편', 'prdtStatNm': '개봉', 'nationAlt': '일본', 'genreAlt': '멜로/로맨스,드라마', 'repNationNm': '일본', 'repGenreNm': '멜로/로맨스', 'directors': [{'peopleNm': '코엔지 고로'}], 'companys': []}, {'movieCd': '20233060', 'movieNm': '맞바람:밤꽃 향기 남기고 갔단다', 'movieNmEn': 'TUMANOKUTIBIRU', 'prdtYear': '2022', 'openDt': '20230803', 'typeNm': '장편', 'prdtStatNm': '개봉', 'nationAlt': '일본', 'genreAlt': '멜로/로맨스,드라마', 'repNationNm': '일본', 'repGenreNm': '멜로/로맨스', 'directors': [{'peopleNm': '나가에'}], 'companys': []}, {'movieCd': '20232897', 'movieNm': '더 도어 : 다섯 개의 문', 'movieNmEn': \"Who's there?\", 'prdtYear': '2022', 'openDt': '20230803', 'typeNm': '장편', 'prdtStatNm': '개봉', 'nationAlt': '러시아', 'genreAlt': '', 'repNationNm': '러시아', 'repGenreNm': '', 'directors': [{'peopleNm': '블라디미르 마슬로프'}, {'peopleNm': '미하일 모스코프'}, {'peopleNm': '비탈리 두드카'}], 'companys': []}, {'movieCd': '20232696', 'movieNm': '눈앞에서 섹스하는 친구 부부', 'movieNmEn': '', 'prdtYear': '2023', 'openDt': '20230803', 'typeNm': '장편', 'prdtStatNm': '개봉', 'nationAlt': '한국', 'genreAlt': '성인물(에로)', 'repNationNm': '한국', 'repGenreNm': '성인물(에로)', 'directors': [{'peopleNm': '남지호'}], 'companys': [{'companyCd': '20217881', 'companyNm': '(주)샤이커뮤니케이션즈'}]}, {'movieCd': '20233044', 'movieNm': '남친 몰래 메이드 알바 주인님 원하시는 대로', 'movieNmEn': 'KAJIHASITEKURENAI', 'prdtYear': '2022', 'openDt': '20230803', 'typeNm': '장편', 'prdtStatNm': '개봉', 'nationAlt': '일본', 'genreAlt': '멜로/로맨스,드라마', 'repNationNm': '일본', 'repGenreNm': '멜로/로맨스', 'directors': [{'peopleNm': '토리피'}], 'companys': []}, {'movieCd': '20203109', 'movieNm': '살바도르 달리 : 불멸을 찾아서', 'movieNmEn': 'Salvador Dali : In Search of Immortality', 'prdtYear': '2022', 'openDt': '20230802', 'typeNm': '장편', 'prdtStatNm': '개봉', 'nationAlt': '스페인', 'genreAlt': '다큐멘터리', 'repNationNm': '스페인', 'repGenreNm': '다큐멘터리', 'directors': [{'peopleNm': '데이비드 푸졸'}], 'companys': []}, {'movieCd': '20232629', 'movieNm': '마야 3: 숲속 왕국의 위기', 'movieNmEn': 'Maya the Bee 3: The Golden Orb (2021)', 'prdtYear': '2021', 'openDt': '20230824', 'typeNm': '장편', 'prdtStatNm': '개봉예정', 'nationAlt': '독일', 'genreAlt': '애니메이션', 'repNationNm': '독일', 'repGenreNm': '애니메이션', 'directors': [{'peopleNm': '노엘 클리어리'}], 'companys': []}, {'movieCd': '19648021', 'movieNm': '붉은 사막', 'movieNmEn': 'The Red Desert', 'prdtYear': '1964', 'openDt': '20230726', 'typeNm': '장편', 'prdtStatNm': '개봉', 'nationAlt': '이탈리아', 'genreAlt': '드라마', 'repNationNm': '이탈리아', 'repGenreNm': '드라마', 'directors': [{'peopleNm': '미켈란젤로 안토니오니'}], 'companys': []}, {'movieCd': '20232674', 'movieNm': '한번 죽어 봤다', 'movieNmEn': 'Not Quite Dead Yet', 'prdtYear': '2020', 'openDt': '20230801', 'typeNm': '장편', 'prdtStatNm': '개봉', 'nationAlt': '일본', 'genreAlt': '코미디', 'repNationNm': '일본', 'repGenreNm': '코미디', 'directors': [{'peopleNm': '하마사키 신지'}], 'companys': []}, {'movieCd': '20232556', 'movieNm': '슈퍼 키드 헤일리', 'movieNmEn': 'Just Super', 'prdtYear': '2022', 'openDt': '20230720', 'typeNm': '장편', 'prdtStatNm': '개봉', 'nationAlt': '노르웨이', 'genreAlt': '애니메이션', 'repNationNm': '노르웨이', 'repGenreNm': '애니메이션', 'directors': [{'peopleNm': '라스무스 A. 실버르센'}], 'companys': []}, {'movieCd': '20223609', 'movieNm': '비밀의 언덕', 'movieNmEn': 'The Hill of Secrets', 'prdtYear': '2022', 'openDt': '20230712', 'typeNm': '장편', 'prdtStatNm': '개봉', 'nationAlt': '한국', 'genreAlt': '기타', 'repNationNm': '한국', 'repGenreNm': '기타', 'directors': [{'peopleNm': '이지은'}], 'companys': [{'companyCd': '20230822', 'companyNm': '오스프링 필름'}]}, {'movieCd': '20232506', 'movieNm': '극장판 아름다운 그: 이터널', 'movieNmEn': 'My Beautiful Man ~Eternal~', 'prdtYear': '2023', 'openDt': '20230712', 'typeNm': '장편', 'prdtStatNm': '개봉', 'nationAlt': '일본', 'genreAlt': '멜로/로맨스', 'repNationNm': '일본', 'repGenreNm': '멜로/로맨스', 'directors': [{'peopleNm': '사카이 마이'}], 'companys': []}, {'movieCd': '20231589', 'movieNm': '파이어하트', 'movieNmEn': 'Fireheart', 'prdtYear': '2022', 'openDt': '20230628', 'typeNm': '장편', 'prdtStatNm': '개봉', 'nationAlt': '프랑스', 'genreAlt': '애니메이션,어드벤처,코미디,가족', 'repNationNm': '프랑스', 'repGenreNm': '애니메이션', 'directors': [{'peopleNm': '시어도어 타이'}, {'peopleNm': '로랑 제툰'}], 'companys': []}, {'movieCd': '20231677', 'movieNm': '남은 인생 10년', 'movieNmEn': 'The Last 10 Years', 'prdtYear': '2022', 'openDt': '20230524', 'typeNm': '장편', 'prdtStatNm': '개봉', 'nationAlt': '일본', 'genreAlt': '멜로/로맨스', 'repNationNm': '일본', 'repGenreNm': '멜로/로맨스', 'directors': [{'peopleNm': '후지이 미치히토'}], 'companys': []}, {'movieCd': '20228571', 'movieNm': '작은정원', 'movieNmEn': 'Little Garden', 'prdtYear': '2022', 'openDt': '20230712', 'typeNm': '장편', 'prdtStatNm': '개봉', 'nationAlt': '한국', 'genreAlt': '다큐멘터리', 'repNationNm': '한국', 'repGenreNm': '다큐멘터리', 'directors': [{'peopleNm': '이마리오'}], 'companys': [{'companyCd': '20230841', 'companyNm': '아나레스'}]}, {'movieCd': '20239691', 'movieNm': '방탄소년단: 옛 투 컴 인 시네마', 'movieNmEn': 'BTS: Yet To Come in Cinemas', 'prdtYear': '2022', 'openDt': '20230201', 'typeNm': '장편', 'prdtStatNm': '개봉', 'nationAlt': '한국', 'genreAlt': '공연', 'repNationNm': '한국', 'repGenreNm': '공연', 'directors': [{'peopleNm': '오윤동'}], 'companys': [{'companyCd': '20203082', 'companyNm': '씨제이포디플렉스 주식회사'}]}, {'movieCd': '20232836', 'movieNm': '몬스터 패밀리 2', 'movieNmEn': 'Monster Family 2', 'prdtYear': '2021', 'openDt': '20230802', 'typeNm': '장편', 'prdtStatNm': '개봉', 'nationAlt': '영국', 'genreAlt': '애니메이션', 'repNationNm': '영국', 'repGenreNm': '애니메이션', 'directors': [{'peopleNm': '호거 태프'}], 'companys': []}, {'movieCd': '20218935', 'movieNm': '더 문', 'movieNmEn': 'The Moon', 'prdtYear': '2023', 'openDt': '20230802', 'typeNm': '장편', 'prdtStatNm': '개봉', 'nationAlt': '한국', 'genreAlt': 'SF,액션,드라마', 'repNationNm': '한국', 'repGenreNm': 'SF', 'directors': [{'peopleNm': '김용화'}], 'companys': [{'companyCd': '20204141', 'companyNm': '(주)블라드스튜디오'}]}, {'movieCd': '20224475', 'movieNm': '사랑의 고고학', 'movieNmEn': 'Archaeology of Love', 'prdtYear': '2022', 'openDt': '20230412', 'typeNm': '장편', 'prdtStatNm': '개봉', 'nationAlt': '한국', 'genreAlt': '드라마', 'repNationNm': '한국', 'repGenreNm': '드라마', 'directors': [{'peopleNm': '이완민'}], 'companys': [{'companyCd': '20138515', 'companyNm': '(주)맑은시네마'}]}, {'movieCd': '20232813', 'movieNm': '섹스 테라피스트', 'movieNmEn': '', 'prdtYear': '2023', 'openDt': '20230801', 'typeNm': '장편', 'prdtStatNm': '개봉', 'nationAlt': '한국', 'genreAlt': '성인물(에로)', 'repNationNm': '한국', 'repGenreNm': '성인물(에로)', 'directors': [{'peopleNm': '김대성'}], 'companys': [{'companyCd': '20154968', 'companyNm': '(주)로드하우스'}]}, {'movieCd': '20232948', 'movieNm': '생츄어리: 마법의 소원나무', 'movieNmEn': 'The Wishmas Tree', 'prdtYear': '2019', 'openDt': '20230906', 'typeNm': '장편', 'prdtStatNm': '개봉예정', 'nationAlt': '호주', 'genreAlt': '애니메이션', 'repNationNm': '호주', 'repGenreNm': '애니메이션', 'directors': [], 'companys': []}, {'movieCd': '20233036', 'movieNm': '강다니엘: 마이 퍼레이드', 'movieNmEn': 'KANG DANIEL: MY PARADE', 'prdtYear': '2023', 'openDt': '20230830', 'typeNm': '장편', 'prdtStatNm': '개봉예정', 'nationAlt': '한국', 'genreAlt': '공연,다큐멘터리', 'repNationNm': '한국', 'repGenreNm': '공연', 'directors': [{'peopleNm': '박재석'}], 'companys': [{'companyCd': '20217585', 'companyNm': '(주)위즈온센'}]}, {'movieCd': '20232536', 'movieNm': '명탐정코난: 흑철의 어영', 'movieNmEn': 'Detective Conan The Movie: Black Iron Submarine', 'prdtYear': '2023', 'openDt': '20230720', 'typeNm': '장편', 'prdtStatNm': '개봉', 'nationAlt': '일본', 'genreAlt': '애니메이션', 'repNationNm': '일본', 'repGenreNm': '애니메이션', 'directors': [{'peopleNm': '타치카와 유즈루'}], 'companys': []}, {'movieCd': '20232757', 'movieNm': '잘 주는 옆집 부인 : 제가 해줄게요', 'movieNmEn': 'TONARINOBIJINTUMA-01', 'prdtYear': '2022', 'openDt': '20230731', 'typeNm': '장편', 'prdtStatNm': '개봉', 'nationAlt': '일본', 'genreAlt': '성인물(에로),드라마,멜로/로맨스', 'repNationNm': '일본', 'repGenreNm': '성인물(에로)', 'directors': [{'peopleNm': '디렉터 O'}], 'companys': []}, {'movieCd': '20232775', 'movieNm': '여상사와 사무실에서 몰래 하고 있어요', 'movieNmEn': 'MUBOUBINOPANSUTO-03', 'prdtYear': '2022', 'openDt': '20230731', 'typeNm': '장편', 'prdtStatNm': '개봉', 'nationAlt': '일본', 'genreAlt': '성인물(에로),드라마,멜로/로맨스', 'repNationNm': '일본', 'repGenreNm': '성인물(에로)', 'directors': [], 'companys': []}, {'movieCd': '20232756', 'movieNm': '남편 출장 간 사이 범해지는 아내', 'movieNmEn': 'HANNOMOKUNYUGEKIJYOU-02', 'prdtYear': '2022', 'openDt': '20230731', 'typeNm': '장편', 'prdtStatNm': '개봉', 'nationAlt': '일본', 'genreAlt': '성인물(에로),드라마,멜로/로맨스', 'repNationNm': '일본', 'repGenreNm': '성인물(에로)', 'directors': [{'peopleNm': '디렉터 O'}], 'companys': []}, {'movieCd': '20232774', 'movieNm': '남편 없어요 : 임신 시켜주세요', 'movieNmEn': 'HANNOMOKUNYUGEKIJYOU-03', 'prdtYear': '2022', 'openDt': '20230731', 'typeNm': '장편', 'prdtStatNm': '개봉', 'nationAlt': '일본', 'genreAlt': '성인물(에로),드라마,멜로/로맨스', 'repNationNm': '일본', 'repGenreNm': '성인물(에로)', 'directors': [{'peopleNm': '디렉터 O'}], 'companys': []}, {'movieCd': '20231891', 'movieNm': '스와핑 ： 친구의 아내 4', 'movieNmEn': '', 'prdtYear': '2023', 'openDt': '20230728', 'typeNm': '장편', 'prdtStatNm': '개봉', 'nationAlt': '한국', 'genreAlt': '성인물(에로)', 'repNationNm': '한국', 'repGenreNm': '성인물(에로)', 'directors': [{'peopleNm': '최홍준'}], 'companys': [{'companyCd': '20161021', 'companyNm': '(주)영화사가을'}]}, {'movieCd': '20230541', 'movieNm': '흠뻑젖은 속옷 무삭제판', 'movieNmEn': '', 'prdtYear': '2022', 'openDt': '20230726', 'typeNm': '장편', 'prdtStatNm': '개봉', 'nationAlt': '일본', 'genreAlt': '성인물(에로),멜로/로맨스', 'repNationNm': '일본', 'repGenreNm': '성인물(에로)', 'directors': [{'peopleNm': '버드맨 텟페이'}], 'companys': []}, {'movieCd': '20232862', 'movieNm': '형수의 젖은 가랑이', 'movieNmEn': '', 'prdtYear': '2022', 'openDt': '20230726', 'typeNm': '장편', 'prdtStatNm': '개봉', 'nationAlt': '일본', 'genreAlt': '성인물(에로),멜로/로맨스', 'repNationNm': '일본', 'repGenreNm': '성인물(에로)', 'directors': [], 'companys': []}, {'movieCd': '20239808', 'movieNm': '형수는 밤손님 무삭제판', 'movieNmEn': '', 'prdtYear': '2022', 'openDt': '20230726', 'typeNm': '장편', 'prdtStatNm': '개봉', 'nationAlt': '일본', 'genreAlt': '성인물(에로),멜로/로맨스', 'repNationNm': '일본', 'repGenreNm': '성인물(에로)', 'directors': [{'peopleNm': '버드맨 텟페이'}], 'companys': []}, {'movieCd': '20230644', 'movieNm': '친절한 제수씨 무삭제판', 'movieNmEn': '', 'prdtYear': '2022', 'openDt': '20230726', 'typeNm': '장편', 'prdtStatNm': '개봉', 'nationAlt': '일본', 'genreAlt': '성인물(에로),멜로/로맨스', 'repNationNm': '일본', 'repGenreNm': '성인물(에로)', 'directors': [{'peopleNm': '버드맨 텟페이'}], 'companys': []}, {'movieCd': '20232538', 'movieNm': '치욕과 욕정사이', 'movieNmEn': 'Inaka-no Kinshinsoukan Takagi Chisato', 'prdtYear': '2022', 'openDt': '20230726', 'typeNm': '장편', 'prdtStatNm': '개봉', 'nationAlt': '일본', 'genreAlt': '성인물(에로),멜로/로맨스', 'repNationNm': '일본', 'repGenreNm': '성인물(에로)', 'directors': [], 'companys': []}, {'movieCd': '20239832', 'movieNm': '처음 젖은 가랑이 무삭제판', 'movieNmEn': '', 'prdtYear': '2022', 'openDt': '20230726', 'typeNm': '장편', 'prdtStatNm': '개봉', 'nationAlt': '일본', 'genreAlt': '성인물(에로),멜로/로맨스', 'repNationNm': '일본', 'repGenreNm': '성인물(에로)', 'directors': [{'peopleNm': '버드맨 텟페이'}], 'companys': []}, {'movieCd': '20231857', 'movieNm': '음욕의 교육 무삭제판', 'movieNmEn': '', 'prdtYear': '2022', 'openDt': '20230726', 'typeNm': '장편', 'prdtStatNm': '개봉', 'nationAlt': '일본', 'genreAlt': '성인물(에로),멜로/로맨스', 'repNationNm': '일본', 'repGenreNm': '성인물(에로)', 'directors': [{'peopleNm': '사쿠라비토'}], 'companys': []}, {'movieCd': '20231954', 'movieNm': '아내가 된 며느리', 'movieNmEn': '', 'prdtYear': '2022', 'openDt': '20230726', 'typeNm': '장편', 'prdtStatNm': '개봉', 'nationAlt': '한국', 'genreAlt': '성인물(에로)', 'repNationNm': '한국', 'repGenreNm': '성인물(에로)', 'directors': [{'peopleNm': 'KH'}], 'companys': [{'companyCd': '20199962', 'companyNm': '(주)담화'}]}, {'movieCd': '20230746', 'movieNm': '며느리를 보내는 방법 무삭제판', 'movieNmEn': '', 'prdtYear': '2022', 'openDt': '20230726', 'typeNm': '장편', 'prdtStatNm': '개봉', 'nationAlt': '일본', 'genreAlt': '성인물(에로),멜로/로맨스', 'repNationNm': '일본', 'repGenreNm': '성인물(에로)', 'directors': [{'peopleNm': '사쿠라비토'}], 'companys': []}, {'movieCd': '20239964', 'movieNm': '며느리는 성욕보호사 무삭제판', 'movieNmEn': '', 'prdtYear': '2022', 'openDt': '20230726', 'typeNm': '장편', 'prdtStatNm': '개봉', 'nationAlt': '일본', 'genreAlt': '성인물(에로),멜로/로맨스', 'repNationNm': '일본', 'repGenreNm': '성인물(에로)', 'directors': [{'peopleNm': '모소조쿠'}], 'companys': []}, {'movieCd': '20224363', 'movieNm': '너무 급한 며느리', 'movieNmEn': '', 'prdtYear': '2020', 'openDt': '20230726', 'typeNm': '장편', 'prdtStatNm': '개봉', 'nationAlt': '일본', 'genreAlt': '성인물(에로),멜로/로맨스', 'repNationNm': '일본', 'repGenreNm': '성인물(에로)', 'directors': [{'peopleNm': '니쿠손'}], 'companys': []}, {'movieCd': '20230568', 'movieNm': '그녀의 음란 레슨 무삭제판', 'movieNmEn': '', 'prdtYear': '2022', 'openDt': '20230726', 'typeNm': '장편', 'prdtStatNm': '개봉', 'nationAlt': '한국', 'genreAlt': '성인물(에로),멜로/로맨스', 'repNationNm': '한국', 'repGenreNm': '성인물(에로)', 'directors': [{'peopleNm': '윤수현'}], 'companys': [{'companyCd': '20174841', 'companyNm': '(주)가온콘텐츠'}]}, {'movieCd': '20232902', 'movieNm': '골프레슨 특별한 기술', 'movieNmEn': '', 'prdtYear': '2023', 'openDt': '20230726', 'typeNm': '장편', 'prdtStatNm': '개봉', 'nationAlt': '한국', 'genreAlt': '', 'repNationNm': '한국', 'repGenreNm': '', 'directors': [{'peopleNm': '오지인'}], 'companys': [{'companyCd': '20100355', 'companyNm': '주식회사 루믹스미디어'}]}, {'movieCd': '20239851', 'movieNm': '거칠것 없는 그녀 무삭제판', 'movieNmEn': '', 'prdtYear': '2022', 'openDt': '20230726', 'typeNm': '장편', 'prdtStatNm': '개봉', 'nationAlt': '일본', 'genreAlt': '성인물(에로),멜로/로맨스', 'repNationNm': '일본', 'repGenreNm': '성인물(에로)', 'directors': [{'peopleNm': '버드맨 텟페이'}], 'companys': []}, {'movieCd': '20230250', 'movieNm': '거친 섹스의 두 가지 맛 무삭제판', 'movieNmEn': '', 'prdtYear': '2022', 'openDt': '20230726', 'typeNm': '장편', 'prdtStatNm': '개봉', 'nationAlt': '한국', 'genreAlt': '성인물(에로)', 'repNationNm': '한국', 'repGenreNm': '성인물(에로)', 'directors': [{'peopleNm': '윤수현'}], 'companys': [{'companyCd': '20203221', 'companyNm': '이야픽쳐스 '}]}, {'movieCd': '20232895', 'movieNm': '은밀한 마사지샵 부부 교환', 'movieNmEn': '', 'prdtYear': '2023', 'openDt': '20230725', 'typeNm': '장편', 'prdtStatNm': '개봉', 'nationAlt': '한국', 'genreAlt': '성인물(에로)', 'repNationNm': '한국', 'repGenreNm': '성인물(에로)', 'directors': [{'peopleNm': '문정동 쪼형'}], 'companys': [{'companyCd': '20230861', 'companyNm': '(주)두리컴미디어'}]}, {'movieCd': '20232299', 'movieNm': '아들아 미안하다', 'movieNmEn': '', 'prdtYear': '2023', 'openDt': '20230721', 'typeNm': '장편', 'prdtStatNm': '개봉', 'nationAlt': '한국', 'genreAlt': '성인물(에로)', 'repNationNm': '한국', 'repGenreNm': '성인물(에로)', 'directors': [{'peopleNm': '문정동 쪼형'}], 'companys': [{'companyCd': '20100142', 'companyNm': '(주)씨맥스커뮤니케이션즈'}]}, {'movieCd': '20231536', 'movieNm': '동생아내 : 난봉꾼 아주버님', 'movieNmEn': '', 'prdtYear': '2023', 'openDt': '20230721', 'typeNm': '장편', 'prdtStatNm': '개봉', 'nationAlt': '한국', 'genreAlt': '성인물(에로)', 'repNationNm': '한국', 'repGenreNm': '성인물(에로)', 'directors': [{'peopleNm': '최홍준'}], 'companys': [{'companyCd': '20161021', 'companyNm': '(주)영화사가을'}]}, {'movieCd': '20231453', 'movieNm': '다크 글래시스', 'movieNmEn': 'Dark Glasses', 'prdtYear': '2022', 'openDt': '20230721', 'typeNm': '장편', 'prdtStatNm': '개봉', 'nationAlt': '이탈리아', 'genreAlt': '공포(호러),미스터리,스릴러', 'repNationNm': '이탈리아', 'repGenreNm': '공포(호러)', 'directors': [{'peopleNm': '다리오 아르젠토'}], 'companys': []}, {'movieCd': '20228165', 'movieNm': ' 아들의 가정교사를 사랑한 레이코', 'movieNmEn': '', 'prdtYear': '2021', 'openDt': '20230720', 'typeNm': '장편', 'prdtStatNm': '개봉', 'nationAlt': '일본', 'genreAlt': '성인물(에로)', 'repNationNm': '일본', 'repGenreNm': '성인물(에로)', 'directors': [{'peopleNm': '코지마 유키오'}], 'companys': []}, {'movieCd': '20232754', 'movieNm': '배달 마사지 3', 'movieNmEn': '', 'prdtYear': '2023', 'openDt': '20230719', 'typeNm': '장편', 'prdtStatNm': '개봉', 'nationAlt': '한국', 'genreAlt': '성인물(에로)', 'repNationNm': '한국', 'repGenreNm': '성인물(에로)', 'directors': [{'peopleNm': '유수영'}], 'companys': [{'companyCd': '20217184', 'companyNm': '영화사 레드카펫'}]}, {'movieCd': '20230878', 'movieNm': '쓰리썸 ： 내 아내의 친구', 'movieNmEn': '', 'prdtYear': '2023', 'openDt': '20230715', 'typeNm': '장편', 'prdtStatNm': '개봉', 'nationAlt': '한국', 'genreAlt': '성인물(에로)', 'repNationNm': '한국', 'repGenreNm': '성인물(에로)', 'directors': [{'peopleNm': '민정현'}], 'companys': [{'companyCd': '20161021', 'companyNm': '(주)영화사가을'}]}, {'movieCd': '20230626', 'movieNm': '일본에서 제일 키큰 모델급 유부녀', 'movieNmEn': '', 'prdtYear': '2021', 'openDt': '20230714', 'typeNm': '장편', 'prdtStatNm': '개봉', 'nationAlt': '일본', 'genreAlt': '성인물(에로)', 'repNationNm': '일본', 'repGenreNm': '성인물(에로)', 'directors': [{'peopleNm': '코지마 유키오'}], 'companys': []}, {'movieCd': '20232196', 'movieNm': '내 남편을 치료해주세요', 'movieNmEn': '', 'prdtYear': '2023', 'openDt': '20230714', 'typeNm': '장편', 'prdtStatNm': '개봉', 'nationAlt': '한국', 'genreAlt': '성인물(에로),드라마', 'repNationNm': '한국', 'repGenreNm': '성인물(에로)', 'directors': [{'peopleNm': '리차드 킴'}], 'companys': [{'companyCd': '20202841', 'companyNm': '영화사 산들바람'}]}, {'movieCd': '20231932', 'movieNm': '가족같은 그녀들', 'movieNmEn': '', 'prdtYear': '2022', 'openDt': '20230714', 'typeNm': '장편', 'prdtStatNm': '개봉', 'nationAlt': '한국', 'genreAlt': '성인물(에로)', 'repNationNm': '한국', 'repGenreNm': '성인물(에로)', 'directors': [{'peopleNm': '성이성'}], 'companys': [{'companyCd': '20199962', 'companyNm': '(주)담화'}]}]}}\n"
     ]
    }
   ],
   "source": [
    "print(data)"
   ]
  },
  {
   "cell_type": "code",
   "execution_count": 14,
   "metadata": {},
   "outputs": [
    {
     "name": "stdout",
     "output_type": "stream",
     "text": [
      "     movieCd                     movieNm                movieNmEn prdtYear  \\\n",
      "0   20232778                 인시디어스: 빨간 문  Insidious: The Red Door     2023   \n",
      "1   20233005                   순진한 베이글녀들                              2023   \n",
      "2   20232615  마사지사 예라의 끝내주는 손기술:한 번에 두 발                              2023   \n",
      "3   20226500                 달짝지근해: 7510               HONEYSWEET     2022   \n",
      "4   20224667                           잠                    Sleep     2022   \n",
      "..       ...                         ...                      ...      ...   \n",
      "95  20232754                    배달 마사지 3                              2023   \n",
      "96  20230878              쓰리썸 ： 내 아내의 친구                              2023   \n",
      "97  20230626          일본에서 제일 키큰 모델급 유부녀                              2021   \n",
      "98  20232196                내 남편을 치료해주세요                              2023   \n",
      "99  20231932                    가족같은 그녀들                              2022   \n",
      "\n",
      "      openDt typeNm prdtStatNm nationAlt            genreAlt repNationNm  \\\n",
      "0   20230719     장편         개봉        미국              공포(호러)          미국   \n",
      "1   20230811     장편         개봉        한국             성인물(에로)          한국   \n",
      "2   20230811     장편         개봉        한국  성인물(에로),드라마,멜로/로맨스          한국   \n",
      "3   20230815     장편       개봉예정        한국                 코미디          한국   \n",
      "4   20230906     장편       개봉예정        한국                미스터리          한국   \n",
      "..       ...    ...        ...       ...                 ...         ...   \n",
      "95  20230719     장편         개봉        한국             성인물(에로)          한국   \n",
      "96  20230715     장편         개봉        한국             성인물(에로)          한국   \n",
      "97  20230714     장편         개봉        일본             성인물(에로)          일본   \n",
      "98  20230714     장편         개봉        한국         성인물(에로),드라마          한국   \n",
      "99  20230714     장편         개봉        한국             성인물(에로)          한국   \n",
      "\n",
      "   repGenreNm director       company  \n",
      "0      공포(호러)   패트릭 윌슨          None  \n",
      "1     성인물(에로)      서필벅  (주)샤이커뮤니케이션즈  \n",
      "2     성인물(에로)      윤준세   (주)영진크리에이티브  \n",
      "3         코미디       이한        (주)무비락  \n",
      "4        미스터리      유재선    (주)루이스 픽쳐스  \n",
      "..        ...      ...           ...  \n",
      "95    성인물(에로)      유수영      영화사 레드카펫  \n",
      "96    성인물(에로)      민정현      (주)영화사가을  \n",
      "97    성인물(에로)  코지마 유키오          None  \n",
      "98    성인물(에로)    리차드 킴      영화사 산들바람  \n",
      "99    성인물(에로)      성이성         (주)담화  \n",
      "\n",
      "[100 rows x 13 columns]\n"
     ]
    }
   ],
   "source": [
    "df_test = pd.json_normalize(data[\"movieListResult\"][\"movieList\"])\n",
    "# \"director\"와 \"company\" 필드 추가\n",
    "df_test[\"director\"] = df_test[\"directors\"].apply(lambda x: x[0][\"peopleNm\"] if len(x) != 0 else None)\n",
    "df_test[\"company\"] = df_test[\"companys\"].apply(lambda x: x[0][\"companyNm\"] if len(x) != 0 else None)\n",
    "df_test.drop(columns=[\"directors\", \"companys\"], inplace=True)\n",
    "\n",
    "print(df_test)"
   ]
  },
  {
   "cell_type": "code",
   "execution_count": 12,
   "metadata": {},
   "outputs": [
    {
     "name": "stdout",
     "output_type": "stream",
     "text": [
      "     movieCd                     movieNm                movieNmEn prdtYear  \\\n",
      "0   20232778                 인시디어스: 빨간 문  Insidious: The Red Door     2023   \n",
      "1   20233005                   순진한 베이글녀들                              2023   \n",
      "2   20232615  마사지사 예라의 끝내주는 손기술:한 번에 두 발                              2023   \n",
      "3   20226500                 달짝지근해: 7510               HONEYSWEET     2022   \n",
      "4   20224667                           잠                    Sleep     2022   \n",
      "..       ...                         ...                      ...      ...   \n",
      "95  20232754                    배달 마사지 3                              2023   \n",
      "96  20230878              쓰리썸 ： 내 아내의 친구                              2023   \n",
      "97  20230626          일본에서 제일 키큰 모델급 유부녀                              2021   \n",
      "98  20232196                내 남편을 치료해주세요                              2023   \n",
      "99  20231932                    가족같은 그녀들                              2022   \n",
      "\n",
      "      openDt typeNm prdtStatNm nationAlt            genreAlt repNationNm  \\\n",
      "0   20230719     장편         개봉        미국              공포(호러)          미국   \n",
      "1   20230811     장편         개봉        한국             성인물(에로)          한국   \n",
      "2   20230811     장편         개봉        한국  성인물(에로),드라마,멜로/로맨스          한국   \n",
      "3   20230815     장편       개봉예정        한국                 코미디          한국   \n",
      "4   20230906     장편       개봉예정        한국                미스터리          한국   \n",
      "..       ...    ...        ...       ...                 ...         ...   \n",
      "95  20230719     장편         개봉        한국             성인물(에로)          한국   \n",
      "96  20230715     장편         개봉        한국             성인물(에로)          한국   \n",
      "97  20230714     장편         개봉        일본             성인물(에로)          일본   \n",
      "98  20230714     장편         개봉        한국         성인물(에로),드라마          한국   \n",
      "99  20230714     장편         개봉        한국             성인물(에로)          한국   \n",
      "\n",
      "   repGenreNm director       company  \n",
      "0      공포(호러)   패트릭 윌슨          None  \n",
      "1     성인물(에로)      서필벅  (주)샤이커뮤니케이션즈  \n",
      "2     성인물(에로)      윤준세   (주)영진크리에이티브  \n",
      "3         코미디       이한        (주)무비락  \n",
      "4        미스터리      유재선    (주)루이스 픽쳐스  \n",
      "..        ...      ...           ...  \n",
      "95    성인물(에로)      유수영      영화사 레드카펫  \n",
      "96    성인물(에로)      민정현      (주)영화사가을  \n",
      "97    성인물(에로)  코지마 유키오          None  \n",
      "98    성인물(에로)    리차드 킴      영화사 산들바람  \n",
      "99    성인물(에로)      성이성         (주)담화  \n",
      "\n",
      "[100 rows x 13 columns]\n"
     ]
    }
   ],
   "source": [
    "# data 파싱\n",
    "movie_data_list = []\n",
    "for movie in data[\"movieListResult\"][\"movieList\"]:\n",
    "    movie_data = {\n",
    "        \"movieCd\": movie[\"movieCd\"],\n",
    "        \"movieNm\": movie[\"movieNm\"],\n",
    "        \"movieNmEn\": movie[\"movieNmEn\"],\n",
    "        \"prdtYear\": movie[\"prdtYear\"],\n",
    "        \"openDt\": movie[\"openDt\"],\n",
    "        \"typeNm\": movie[\"typeNm\"],\n",
    "        \"prdtStatNm\": movie[\"prdtStatNm\"],\n",
    "        \"nationAlt\": movie[\"nationAlt\"],\n",
    "        \"genreAlt\": movie[\"genreAlt\"],\n",
    "        \"repNationNm\": movie[\"repNationNm\"],\n",
    "        \"repGenreNm\": movie[\"repGenreNm\"],\n",
    "        \"director\": movie[\"directors\"][0][\"peopleNm\"] if len(movie[\"directors\"]) != 0 else None,\n",
    "        \"company\": movie[\"companys\"][0][\"companyNm\"] if len(movie[\"companys\"]) != 0 else None\n",
    "    }\n",
    "    movie_data_list.append(movie_data)\n",
    "\n",
    "# 추출한 데이터를 DataFrame으로 변환\n",
    "df = pd.DataFrame(movie_data_list)\n",
    "print(df)"
   ]
  }
 ],
 "metadata": {
  "kernelspec": {
   "display_name": "airflow",
   "language": "python",
   "name": "python3"
  },
  "language_info": {
   "codemirror_mode": {
    "name": "ipython",
    "version": 3
   },
   "file_extension": ".py",
   "mimetype": "text/x-python",
   "name": "python",
   "nbconvert_exporter": "python",
   "pygments_lexer": "ipython3",
   "version": "3.7.16"
  },
  "orig_nbformat": 4
 },
 "nbformat": 4,
 "nbformat_minor": 2
}
